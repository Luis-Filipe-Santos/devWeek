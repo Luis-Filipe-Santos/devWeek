{
  "cells": [
    {
      "attachments": {},
      "cell_type": "markdown",
      "metadata": {
        "id": "oPigZArHe3d_"
      },
      "source": [
        "# iFood Dev Week\n",
        "\n",
        "Saiba mais sobre essa semana incrível no Artigo [Desvendando a iFood Dev Week](https://www.dio.me/articles/desvendando-a-ifood-dev-week)."
      ]
    },
    {
      "attachments": {},
      "cell_type": "markdown",
      "metadata": {
        "id": "VJ9ncXpVjIz9"
      },
      "source": [
        "## Dia 1: Conheça o Google Colab e o Projeto Desta Dev Week\n",
        "\n",
        "Vamos mergulhar no Google Colab, aprendendo como ele pode ser usado para automatizar tarefas cotidianas, principalmente através da manipulação de planilhas. Além disso, você aprenderá na prática o conceito do Net Promoter Score (NPS), uma métrica fundamental para entender a satisfação do cliente."
      ]
    },
    {
      "cell_type": "code",
      "execution_count": 20,
      "metadata": {},
      "outputs": [
        {
          "name": "stderr",
          "output_type": "stream",
          "text": [
            "Downloading...\n",
            "From: https://drive.google.com/uc?id=1_nyLNsT55X37Y0KDBXVXzSYsX-SoSqZi\n",
            "To: c:\\Users\\filip\\Desktop\\devWeek\\feedbacks.csv\n",
            "100%|██████████| 351/351 [00:00<00:00, 351kB/s]\n"
          ]
        }
      ],
      "source": [
        "\"\"\"\n",
        "Este código baixa um arquivo CSV de feedbacks do Google Drive e carrega os dados em um DataFrame pandas.\n",
        "\n",
        "O arquivo é identificado por um ID único ('file_id'), que é extraído da URL do arquivo no Google Drive.\n",
        "A URL do arquivo no Google Drive tem o seguinte formato:\n",
        "\n",
        "\"\"\"\n",
        "\n",
        "import gdown\n",
        "import pandas as pd\n",
        "\n",
        "file_id = \"1_nyLNsT55X37Y0KDBXVXzSYsX-SoSqZi\"\n",
        "gdown.download(f\"https://drive.google.com/uc?id={file_id}\", \"feedbacks.csv\")\n",
        "\n",
        "dados = pd.read_csv('feedbacks.csv', delimiter=';')"
      ]
    },
    {
      "cell_type": "code",
      "execution_count": 21,
      "metadata": {
        "colab": {
          "base_uri": "https://localhost:8080/"
        },
        "id": "pQo2iXQLPjnR",
        "outputId": "4764eafc-a34a-47f4-dded-48aeaad8866e"
      },
      "outputs": [
        {
          "name": "stdout",
          "output_type": "stream",
          "text": [
            "57.14285714285714\n"
          ]
        }
      ],
      "source": [
        "#       Código Versão 1 (Paradigma Imperativo).\n",
        "\n",
        "\"\"\"\n",
        "Versão 1: Paradigma Imperativo.\n",
        "\n",
        "Este script lê um arquivo CSV contendo feedback de usuários, no qual cada feedback tem uma nota associada.\n",
        "O NPS é calculado como a diferença entre o percentual de promotores (nota >= 9) e detratores (nota <= 6), multiplicada por 100.\n",
        "A implementação é realizada de uma maneira imperativa, onde os comandos são executados sequencialmente.\n",
        "\"\"\"\n",
        "\n",
        "\n",
        "notas = dados['nota']\n",
        "\n",
        "detratores = 0\n",
        "promotores = 0\n",
        "\n",
        "for nota in notas:\n",
        "  if nota >= 9:\n",
        "    promotores += 1\n",
        "  elif nota <= 6:\n",
        "    detratores += 1\n",
        "\n",
        "nps = (promotores - detratores) / len(notas) * 100\n",
        "\n",
        "print(nps)"
      ]
    },
    {
      "cell_type": "code",
      "execution_count": 22,
      "metadata": {
        "colab": {
          "base_uri": "https://localhost:8080/"
        },
        "id": "-qLL6LQ1qcAR",
        "outputId": "f14a242b-3582-4575-a912-ef8a0beb1b2a"
      },
      "outputs": [
        {
          "name": "stdout",
          "output_type": "stream",
          "text": [
            "57.14285714285714\n"
          ]
        }
      ],
      "source": [
        "#       Código Versão 2 (Paradigma Funcional).\n",
        "\n",
        "\"\"\"\n",
        "Versão 2: Paradigma Funcional.\n",
        "\n",
        "Este código segue uma abordagem funcional para calcular o NPS a partir dos dados de feedback.\n",
        "A função \"calcular_nps\" é definida para encapsular a lógica do cálculo do NPS. Esta versão apresenta\n",
        "uma separação de responsabilidades mais clara do que a versão imperativa, além de melhorias de código pontuais.\n",
        "\"\"\"\n",
        "\n",
        "\n",
        "def calcular_nps(notas):\n",
        "    detratores = sum(notas.apply(lambda nota: nota <= 6))\n",
        "    promotores = notas[notas >= 9].count()\n",
        "\n",
        "    return (promotores - detratores) / len(notas) * 100\n",
        "\n",
        "\n",
        "nps = calcular_nps(notas)\n",
        "\n",
        "print(nps)"
      ]
    },
    {
      "cell_type": "code",
      "execution_count": 23,
      "metadata": {
        "colab": {
          "base_uri": "https://localhost:8080/"
        },
        "id": "Rzhk-sOXrwJb",
        "outputId": "971d76a4-82dc-452f-a82a-b4309abfb8c4"
      },
      "outputs": [
        {
          "data": {
            "text/plain": [
              "57.14285714285714"
            ]
          },
          "execution_count": 23,
          "metadata": {},
          "output_type": "execute_result"
        }
      ],
      "source": [
        "#       Código Versão 3 (Paradigma Orientado a Objetos).\n",
        "\n",
        "\"\"\"Este script adota uma abordagem Orientada a Objetos (OO) para calcular o NPS a partir de feedback de usuários.\n",
        "Duas classes são definidas, onde:\n",
        "- Feedback representa um único feedback de usuário;\n",
        "- AnalisadorFeedback é usado para calcular o NPS a partir de uma lista de Feedbacks.\n",
        "A POO fornece uma abstração mais clara dos dados e comportamentos envolvidos no cálculo do NPS.\n",
        "Desta forma, nossa solução estará preparada para as evoluções do nosso projeto.\"\"\"\n",
        "\n",
        "\n",
        "class Feedback:\n",
        "  def __init__(self, nota, comentario):\n",
        "    self.nota = nota\n",
        "    self.comentario = comentario\n",
        "\n",
        "\n",
        "class AnalisadorFeedback:\n",
        "  def __init__(self, feedbacks):\n",
        "    self.feedbacks = feedbacks\n",
        "\n",
        "  def calcular_nps(self):\n",
        "    #  Por ser uma list do Python, aplicamos o conceito de \"list comprehension\" para filtrar nossos Feedbacks.\n",
        "    detratores = sum([1 for feedback in self.feedbacks if feedback.nota <= 6])\n",
        "    promotores = sum([1 for feedback in self.feedbacks if feedback.nota >= 9])\n",
        "\n",
        "    return (promotores - detratores) / len(self.feedbacks) * 100\n",
        "\n",
        "feedbacks = [Feedback(linha['nota'], linha['comentario'])  for i, linha in dados.iterrows()]\n",
        "\n",
        "analisador = AnalisadorFeedback(feedbacks)\n",
        "analisador.calcular_nps()"
      ]
    },
    {
      "attachments": {},
      "cell_type": "markdown",
      "metadata": {
        "id": "ekkcgs-nujuG"
      },
      "source": [
        "## Dia 2: Desvendando o Poder dos Seus Dados com Python\n",
        "\n",
        "No segundo dia, vamos conectar nosso Google Colab ao Google Drive, extrair dados do NPS e aplicar as técnicas de ETL (Extração, Transformação e Carregamento) nesses dados. Com a ajuda da biblioteca matplotlib, criaremos gráficos para visualizar e compreender o nível de satisfação dos nossos usuários."
      ]
    },
    {
      "cell_type": "code",
      "execution_count": 33,
      "metadata": {},
      "outputs": [
        {
          "data": {
            "image/png": "[encoded data removed]",
            "text/plain": [
              "<Figure size 1000x200 with 1 Axes>"
            ]
          },
          "metadata": {},
          "output_type": "display_data"
        }
      ],
      "source": [
        "import matplotlib.pyplot as plt\n",
        "import matplotlib.patches as mpatches\n",
        "\n",
        "# Definição das constantes que usaremos para visualizar o NPS\n",
        "\n",
        "NPS_ZONAS = [\"Crítico\", \"Aperfeiçoamento\", \"Qualidade\", \"Excelência\"]\n",
        "NPS_VALORES = [-100, 0, 50, 75, 100]\n",
        "NPS_CORES = [\"#FF595E\", \"#FFCA3A\", \"#8AC926\", \"#1982C4\"]\n",
        "\n",
        "def criar_grafico_nps(nps):\n",
        "    fig, ax = plt.subplots(figsize=(10, 2))\n",
        "\n",
        "    for i, zona in enumerate(NPS_ZONAS):\n",
        "      ax.barh([0], width=NPS_VALORES[i+1]-NPS_VALORES[i], left=NPS_VALORES[i], color=NPS_CORES[i]) # valores do NPS \n",
        "      \n",
        "      ax.barh([0], width=0.3, left=nps, color='black') # mostra barra onde se inicia o NPS\n",
        "      ax.set_yticks([]) # Retira informações desnecessarias no eixo Y\n",
        "      ax.set_xlim(-100, 100) # Delimitando o gráfico no eixo X\n",
        "      ax.set_xticks(NPS_VALORES) # Colocando os valores reais do NPS no eixo X\n",
        "      \n",
        "      \n",
        "    plt.text(nps, 0, f'{nps:.2f}', ha='center', va='center') # Adicionando o valor do NPS gráfico\n",
        "    \n",
        "    plt.show()\n",
        "\n",
        "criar_grafico_nps(nps)\n",
        "\n"
      ]
    },
    {
      "attachments": {},
      "cell_type": "markdown",
      "metadata": {
        "id": "jHl6lLS1usU1"
      },
      "source": [
        "## Dia 3: Decifrando Sentimentos com Inteligência Artificial (IA)\n",
        "\n",
        "No último dia, vamos utilizar as técnicas de Processamento de Linguagem Natural (PLN) para analisar os sentimentos expressos nos comentários associados às notas de NPS. Dessa forma, teremos uma perspectiva qualitativa que complementa nossos dados quantitativos."
      ]
    }
  ],
  "metadata": {
    "colab": {
      "provenance": []
    },
    "kernelspec": {
      "display_name": "Python 3",
      "name": "python3"
    },
    "language_info": {
      "codemirror_mode": {
        "name": "ipython",
        "version": 3
      },
      "file_extension": ".py",
      "mimetype": "text/x-python",
      "name": "python",
      "nbconvert_exporter": "python",
      "pygments_lexer": "ipython3",
      "version": "3.11.3"
    }
  },
  "nbformat": 4,
  "nbformat_minor": 0
}
